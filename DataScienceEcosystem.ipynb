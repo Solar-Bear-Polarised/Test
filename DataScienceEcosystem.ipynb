{
 "cells": [
  {
   "cell_type": "markdown",
   "id": "79217d78-efbd-4aeb-908e-599a60b4f25e",
   "metadata": {},
   "source": [
    "# Data Science Tools and Ecosystem"
   ]
  },
  {
   "cell_type": "markdown",
   "id": "432b42fd-9aee-4fca-b071-3e98742cdfb6",
   "metadata": {},
   "source": [
    "## In this notebook, Data Science Tools and Ecosystem are summarized."
   ]
  },
  {
   "cell_type": "markdown",
   "id": "d5bb1f08-5b8a-43e8-a0c2-e2dd99c5b78a",
   "metadata": {},
   "source": [
    "# Objectives"
   ]
  },
  {
   "cell_type": "markdown",
   "id": "f232c058-6532-4735-ac9b-b1fa7eac3142",
   "metadata": {},
   "source": [
    "- Some of the popular languages that Data Scientists use \n",
    "- Some of the commonly used libraries used by Data Scientists include\n",
    "- few examples of evaluating arithmetic expressions\n",
    "\n"
   ]
  },
  {
   "cell_type": "markdown",
   "id": "1b3652a5-c470-4ab1-9b5f-210207d7a0d4",
   "metadata": {
    "tags": []
   },
   "source": [
    "# Some of the popular languages that Data Scientists use are:\n",
    "1. python\n",
    "2. sql\n",
    "3. R\n",
    "4. spss\n"
   ]
  },
  {
   "cell_type": "markdown",
   "id": "5fc369db-b7d3-47ca-814b-6bc67d88e6e5",
   "metadata": {},
   "source": [
    "## Some of the commonly used libraries used by Data Scientists include:\n",
    "\n",
    "* tensorflow\n",
    "* numpy\n",
    "* scipy\n",
    "* pandas"
   ]
  },
  {
   "cell_type": "markdown",
   "id": "dc5b7542-933f-4f8c-bfb3-0e163b1d3ee6",
   "metadata": {},
   "source": [
    "| Data Science Tools |\n",
    "|--------------------|\n",
    "|R Studio|\n",
    "|Apache Spark|\n",
    "| Tensorflow|"
   ]
  },
  {
   "cell_type": "markdown",
   "id": "4253dee7-587a-4a43-a825-cf657b1a82cb",
   "metadata": {},
   "source": [
    "### Below are a few examples of evaluating arithmetic expressions in Python"
   ]
  },
  {
   "cell_type": "raw",
   "id": "d76d59db-b6ab-4896-ae8d-1480bb2e11c1",
   "metadata": {},
   "source": [
    "print (result)"
   ]
  },
  {
   "cell_type": "code",
   "execution_count": 6,
   "id": "276790e5-ceb6-4434-8f88-247bffd1f036",
   "metadata": {
    "tags": []
   },
   "outputs": [],
   "source": [
    "#This a simple arithmetic expression to mutiply then add integers\n"
   ]
  },
  {
   "cell_type": "code",
   "execution_count": 9,
   "id": "a4bdd249-be2f-4bf5-9f6a-4e983cf5e749",
   "metadata": {
    "tags": []
   },
   "outputs": [],
   "source": [
    "x=3\n",
    "y=4\n",
    "z=5"
   ]
  },
  {
   "cell_type": "code",
   "execution_count": 11,
   "id": "3d6fbf65-9de0-4519-9375-bec593d551cd",
   "metadata": {
    "tags": []
   },
   "outputs": [],
   "source": [
    "result = (x*y)+z"
   ]
  },
  {
   "cell_type": "code",
   "execution_count": 12,
   "id": "513261fb-ca5e-4079-9f39-2dc3f179b77c",
   "metadata": {
    "tags": []
   },
   "outputs": [
    {
     "name": "stdout",
     "output_type": "stream",
     "text": [
      "17\n"
     ]
    }
   ],
   "source": [
    "print (result)"
   ]
  },
  {
   "cell_type": "code",
   "execution_count": 13,
   "id": "f4c1095c-11ad-4b66-aa89-219479706e29",
   "metadata": {
    "tags": []
   },
   "outputs": [],
   "source": [
    "# This will convert 200 minutes to hours by diving by 60"
   ]
  },
  {
   "cell_type": "code",
   "execution_count": 14,
   "id": "72777ab1-f1a0-4381-a70e-048395a04ace",
   "metadata": {
    "tags": []
   },
   "outputs": [
    {
     "name": "stdout",
     "output_type": "stream",
     "text": [
      "3.3333333333333335\n"
     ]
    }
   ],
   "source": [
    "print (200/60)"
   ]
  },
  {
   "cell_type": "markdown",
   "id": "b6e91906-831a-4674-be85-f088bc682339",
   "metadata": {},
   "source": [
    "## Author \n",
    "Vivek Saurav"
   ]
  }
 ],
 "metadata": {
  "kernelspec": {
   "display_name": "Python",
   "language": "python",
   "name": "conda-env-python-py"
  },
  "language_info": {
   "codemirror_mode": {
    "name": "ipython",
    "version": 3
   },
   "file_extension": ".py",
   "mimetype": "text/x-python",
   "name": "python",
   "nbconvert_exporter": "python",
   "pygments_lexer": "ipython3",
   "version": "3.7.12"
  }
 },
 "nbformat": 4,
 "nbformat_minor": 5
}
